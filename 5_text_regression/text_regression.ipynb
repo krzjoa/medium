{
 "cells": [
  {
   "cell_type": "code",
   "execution_count": 13,
   "id": "8308a503",
   "metadata": {},
   "outputs": [],
   "source": [
    "import pandas as pd\n",
    "from sklearn.model_selection import train_test_split"
   ]
  },
  {
   "cell_type": "code",
   "execution_count": 14,
   "id": "a0cd2db4",
   "metadata": {},
   "outputs": [],
   "source": [
    "# !pip install openpyxl\n",
    "# https://github.com/maryami66/uci_dataset\n",
    "\n",
    "# https://archive-beta.ics.uci.edu/datasets?Types=Text&Task=Regression&sort=desc&orderBy=NumHits&skip=0&take=10\n",
    "# "
   ]
  },
  {
   "cell_type": "code",
   "execution_count": 15,
   "id": "990f554f",
   "metadata": {},
   "outputs": [],
   "source": [
    "data = pd.read_csv('data/AB_NYC_2019.csv')\n",
    "\n",
    "TARGET = ['price']\n",
    "# We're intentionally selecting only one column \n",
    "FEATURES = 'name'\n",
    "\n",
    "data['name'] = data['name'].fillna('')\n",
    "\n",
    "X, y = data[FEATURES], data[TARGET]"
   ]
  },
  {
   "cell_type": "code",
   "execution_count": 16,
   "id": "2c2332de",
   "metadata": {},
   "outputs": [],
   "source": [
    "X_train, X_test, y_train, y_test = train_test_split(X, y, test_size=.2)"
   ]
  },
  {
   "cell_type": "code",
   "execution_count": 17,
   "id": "6933648d",
   "metadata": {},
   "outputs": [],
   "source": [
    "# https://www.kaggle.com/code/prashantsaraswat88/using-text-based-features-for-price-regression"
   ]
  },
  {
   "cell_type": "markdown",
   "id": "0bb74be3",
   "metadata": {},
   "source": [
    "## Count Vecorizer"
   ]
  },
  {
   "cell_type": "code",
   "execution_count": 27,
   "id": "b407191b",
   "metadata": {},
   "outputs": [
    {
     "name": "stdout",
     "output_type": "stream",
     "text": [
      "58975.911149025094\n",
      "59142.48936804101\n"
     ]
    }
   ],
   "source": [
    "#from xgboost import XGBRegressor\n",
    "from sklearn.feature_extraction.text import CountVectorizer, TfidfVectorizer\n",
    "from sklearn.pipeline import Pipeline\n",
    "from sklearn.metrics import mean_squared_error\n",
    "\n",
    "from sklearn.linear_model import LinearRegression\n",
    "\n",
    "# Count vectorizer\n",
    "count_vec_pipeline = Pipeline([\n",
    "    ('count_vectorizer', CountVectorizer()),\n",
    "    ('linear_regression', LinearRegression())\n",
    "])\n",
    "count_vec_pipeline.fit(X_train, y_train)\n",
    "y_pred_count_vec = count_vec_pipeline.predict(X_test)\n",
    "print(mean_squared_error(y_test, y_pred_count_vec))\n",
    "\n",
    "# TFIDF\n",
    "tfidf_pipeline = Pipeline([\n",
    "    ('tfidf_vectorizer', TfidfVectorizer()),\n",
    "    ('linear_regression', LinearRegression())\n",
    "])\n",
    "tfidf_pipeline.fit(X_train, y_train)\n",
    "y_pred_tfidf = tfidf_pipeline.predict(X_test)\n",
    "print(mean_squared_error(y_test, y_pred_tfidf))"
   ]
  },
  {
   "cell_type": "code",
   "execution_count": 21,
   "id": "3668e4d6",
   "metadata": {},
   "outputs": [],
   "source": []
  },
  {
   "cell_type": "code",
   "execution_count": 28,
   "id": "9043439e",
   "metadata": {},
   "outputs": [
    {
     "data": {
      "text/plain": [
       "<39116x7154 sparse matrix of type '<class 'numpy.int64'>'\n",
       "\twith 224562 stored elements in Compressed Sparse Row format>"
      ]
     },
     "execution_count": 28,
     "metadata": {},
     "output_type": "execute_result"
    }
   ],
   "source": [
    "X_tr"
   ]
  },
  {
   "cell_type": "markdown",
   "id": "ad3a002f",
   "metadata": {},
   "source": [
    "# Count vectorizer + PCA"
   ]
  },
  {
   "cell_type": "code",
   "execution_count": null,
   "id": "f0dd0014",
   "metadata": {},
   "outputs": [],
   "source": [
    "from sklearn.feature_extraction\n",
    "\n",
    "# Count vectorizer\n",
    "count_vec_pipeline = Pipeline([\n",
    "    ('count_vectorizer', CountVectorizer()),\n",
    "    ('linear_regression', LinearRegression())\n",
    "])\n",
    "count_vec_pipeline.fit(X_train, y_train)\n",
    "y_pred_count_vec = count_vec_pipeline.predict(X_test)\n",
    "print(mean_squared_error(y_test, y_pred_count_vec))\n",
    "\n",
    "# TFIDF\n",
    "tfidf_pipeline = Pipeline([\n",
    "    ('tfidf_vectorizer', TfidfVectorizer()),\n",
    "    ('linear_regression', LinearRegression())\n",
    "])\n",
    "tfidf_pipeline.fit(X_train, y_train)\n",
    "y_pred_tfidf = tfidf_pipeline.predict(X_test)\n",
    "print(mean_squared_error(y_test, y_pred_tfidf))"
   ]
  }
 ],
 "metadata": {
  "kernelspec": {
   "display_name": "Python 3 (ipykernel)",
   "language": "python",
   "name": "python3"
  },
  "language_info": {
   "codemirror_mode": {
    "name": "ipython",
    "version": 3
   },
   "file_extension": ".py",
   "mimetype": "text/x-python",
   "name": "python",
   "nbconvert_exporter": "python",
   "pygments_lexer": "ipython3",
   "version": "3.9.13"
  }
 },
 "nbformat": 4,
 "nbformat_minor": 5
}
