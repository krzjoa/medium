{
 "cells": [
  {
   "cell_type": "code",
   "execution_count": 13,
   "id": "8308a503",
   "metadata": {},
   "outputs": [],
   "source": [
    "import pandas as pd\n",
    "from sklearn.model_selection import train_test_split"
   ]
  },
  {
   "cell_type": "code",
   "execution_count": 14,
   "id": "a0cd2db4",
   "metadata": {},
   "outputs": [],
   "source": [
    "# !pip install openpyxl\n",
    "# https://github.com/maryami66/uci_dataset\n",
    "\n",
    "# https://archive-beta.ics.uci.edu/datasets?Types=Text&Task=Regression&sort=desc&orderBy=NumHits&skip=0&take=10\n",
    "# "
   ]
  },
  {
   "cell_type": "code",
   "execution_count": 15,
   "id": "990f554f",
   "metadata": {},
   "outputs": [],
   "source": [
    "data = pd.read_csv('data/AB_NYC_2019.csv')\n",
    "\n",
    "TARGET = ['price']\n",
    "# We're intentionally selecting only one column \n",
    "FEATURES = 'name'\n",
    "\n",
    "data['name'] = data['name'].fillna('')\n",
    "\n",
    "X, y = data[FEATURES], data[TARGET]"
   ]
  },
  {
   "cell_type": "code",
   "execution_count": 16,
   "id": "2c2332de",
   "metadata": {},
   "outputs": [],
   "source": [
    "X_train, X_test, y_train, y_test = train_test_split(X, y, test_size=.2)"
   ]
  },
  {
   "cell_type": "code",
   "execution_count": 17,
   "id": "6933648d",
   "metadata": {},
   "outputs": [],
   "source": [
    "# https://www.kaggle.com/code/prashantsaraswat88/using-text-based-features-for-price-regression"
   ]
  },
  {
   "cell_type": "markdown",
   "id": "405746eb",
   "metadata": {},
   "source": [
    "## Count Vecorizer"
   ]
  },
  {
   "cell_type": "code",
   "execution_count": 26,
   "id": "af87473d",
   "metadata": {},
   "outputs": [],
   "source": [
    "#from xgboost import XGBRegressor\n",
    "from sklearn.feature_extraction.text import CountVectorizer, TfidfVectorizer\n",
    "from sklearn.pipeline import Pipeline\n",
    "from sklearn.metrics import mean_squared_error\n",
    "\n",
    "from sklearn.linear_model import LinearRegression\n",
    "\n",
    "# Count vectorizer\n",
    "count_vec_pipeline = Pipeline([\n",
    "    ('count_vectorizer', CountVectorizer()),\n",
    "    ('linear_regression', LinearRegression())\n",
    "])\n",
    "count_vec_pipeline.fit(X_train, y_train)\n",
    "y_pred_count_vec = count_vec_pipeline.predict(X_test)\n",
    "\n",
    "# TFIDF\n",
    "tfidf_pipeline = Pipeline([\n",
    "    ('tfidf_vectorizer', TfidfVectorizer()),\n",
    "    ('linear_regression', LinearRegression())\n",
    "])\n",
    "tfidf_pipeline.fit(X_train, y_train)\n",
    "y_pred_tfidf = tfidf_pipeline.predict(X_test)"
   ]
  },
  {
   "cell_type": "code",
   "execution_count": 21,
   "id": "7d76eb38",
   "metadata": {},
   "outputs": [],
   "source": []
  },
  {
   "cell_type": "code",
   "execution_count": 20,
   "id": "bb04ffb9",
   "metadata": {},
   "outputs": [
    {
     "data": {
      "text/plain": [
       "30936                            Enough space for couple:)\n",
       "26756            CHIC and COZY- 1st stop out of Manhattan!\n",
       "32535     New York City Manhattan Midtown Convenient Place\n",
       "17757      Great Appartment with cool roomates in Bushwick\n",
       "40233                  Bay Ridge House near park and water\n",
       "                               ...                        \n",
       "38944         Beautiful Bedroom in Stuyvesant Madison 2R-3\n",
       "5132                     Modern, Bright, Airy Brooklyn Apt\n",
       "19334              Historic and Quiet 2 Bedroom w Backyard\n",
       "32885     Very Convenient Modern Brooklyn Studio Apartment\n",
       "46628    曼哈顿奢侈公寓次卧Manhattan luxury apartment second bed...\n",
       "Name: name, Length: 39116, dtype: object"
      ]
     },
     "execution_count": 20,
     "metadata": {},
     "output_type": "execute_result"
    }
   ],
   "source": []
  },
  {
   "cell_type": "code",
   "execution_count": null,
   "id": "651c6c5b",
   "metadata": {},
   "outputs": [],
   "source": []
  }
 ],
 "metadata": {
  "kernelspec": {
   "display_name": "Python 3 (ipykernel)",
   "language": "python",
   "name": "python3"
  },
  "language_info": {
   "codemirror_mode": {
    "name": "ipython",
    "version": 3
   },
   "file_extension": ".py",
   "mimetype": "text/x-python",
   "name": "python",
   "nbconvert_exporter": "python",
   "pygments_lexer": "ipython3",
   "version": "3.9.13"
  }
 },
 "nbformat": 4,
 "nbformat_minor": 5
}
