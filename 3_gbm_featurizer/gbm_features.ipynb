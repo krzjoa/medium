{
 "cells": [
  {
   "cell_type": "code",
   "execution_count": 9,
   "id": "d70bc5d6",
   "metadata": {},
   "outputs": [],
   "source": [
    "from sklearn.datasets import load_diabetes, fetch_california_housing\n",
    "from sklearn.pipeline import Pipeline\n",
    "from sklearn.linear_model import LinearRegression, LogisticRegression\n",
    "from sklearn.model_selection import train_test_split\n",
    "from sklearn.metrics import mean_squared_error, accuracy_score\n",
    "\n",
    "from skgbm.preprocessing import GBMFeaturizer\n",
    "from lightgbm import LGBMRegressor, LGBMClassifier"
   ]
  },
  {
   "cell_type": "code",
   "execution_count": 3,
   "id": "19f0e683",
   "metadata": {},
   "outputs": [
    {
     "name": "stdout",
     "output_type": "stream",
     "text": [
      "0.25765742830795435\n",
      "0.5535801537052562\n",
      "0.2250359734212795\n"
     ]
    }
   ],
   "source": [
    "# X, y = load_diabetes(return_X_y=True)\n",
    "X, y = fetch_california_housing(return_X_y=True)\n",
    "\n",
    "X_train, X_test, y_train, y_test = train_test_split(X, y)\n",
    "\n",
    "pipeline = \\\n",
    "    Pipeline([\n",
    "        ('gbm_featurizer', GBMFeaturizer(LGBMRegressor(), append=False)),\n",
    "        ('linear_regression', LinearRegression())\n",
    "    ])\n",
    "\n",
    "linear_reg = LinearRegression()\n",
    "lgb_reg = LGBMRegressor()\n",
    "\n",
    "# Training\n",
    "pipeline.fit(X_train, y_train)\n",
    "linear_reg.fit(X_train, y_train)\n",
    "lgb_reg.fit(X_train, y_train)\n",
    "\n",
    "# Testing\n",
    "pipeline_pred = pipeline.predict(X_test)\n",
    "linear_pred = linear_reg.predict(X_test)\n",
    "lgb_pred = lgb_reg.predict(X_test)\n",
    "\n",
    "print(mean_squared_error(y_test, pipeline_pred))\n",
    "print(mean_squared_error(y_test, linear_pred))\n",
    "print(mean_squared_error(y_test, lgb_pred))"
   ]
  },
  {
   "cell_type": "code",
   "execution_count": 3,
   "id": "783da802",
   "metadata": {},
   "outputs": [
    {
     "data": {
      "text/plain": [
       "(15480, 8)"
      ]
     },
     "execution_count": 3,
     "metadata": {},
     "output_type": "execute_result"
    }
   ],
   "source": [
    "X_train.shape"
   ]
  },
  {
   "cell_type": "code",
   "execution_count": 15,
   "id": "3c2f3370",
   "metadata": {},
   "outputs": [
    {
     "name": "stdout",
     "output_type": "stream",
     "text": [
      "0.9370629370629371\n",
      "0.9440559440559441\n",
      "0.9440559440559441\n"
     ]
    },
    {
     "name": "stderr",
     "output_type": "stream",
     "text": [
      "/home/krzysztof/.local/lib/python3.8/site-packages/sklearn/linear_model/_logistic.py:458: ConvergenceWarning: lbfgs failed to converge (status=1):\n",
      "STOP: TOTAL NO. of ITERATIONS REACHED LIMIT.\n",
      "\n",
      "Increase the number of iterations (max_iter) or scale the data as shown in:\n",
      "    https://scikit-learn.org/stable/modules/preprocessing.html\n",
      "Please also refer to the documentation for alternative solver options:\n",
      "    https://scikit-learn.org/stable/modules/linear_model.html#logistic-regression\n",
      "  n_iter_i = _check_optimize_result(\n"
     ]
    }
   ],
   "source": [
    "from sklearn.datasets import load_breast_cancer\n",
    "\n",
    "X, y = load_breast_cancer(return_X_y=True)\n",
    "X_train, X_test, y_train, y_test = train_test_split(X, y)\n",
    "\n",
    "pipeline = \\\n",
    "    Pipeline([\n",
    "        ('gbm_featurizer', GBMFeaturizer(LGBMClassifier(), append=False)),\n",
    "        ('logistic_regression', LogisticRegression())\n",
    "    ])\n",
    "\n",
    "linear_reg = LogisticRegression()\n",
    "lgb_reg = LGBMClassifier()\n",
    "\n",
    "# Training\n",
    "pipeline.fit(X_train, y_train)\n",
    "linear_reg.fit(X_train, y_train)\n",
    "lgb_reg.fit(X_train, y_train)\n",
    "\n",
    "# Testing\n",
    "pipeline_pred = pipeline.predict(X_test)\n",
    "linear_pred = linear_reg.predict(X_test)\n",
    "lgb_pred = lgb_reg.predict(X_test)\n",
    "\n",
    "print(accuracy_score(y_test, pipeline_pred))\n",
    "print(accuracy_score(y_test, linear_pred))\n",
    "print(accuracy_score(y_test, lgb_pred))"
   ]
  },
  {
   "cell_type": "code",
   "execution_count": null,
   "id": "f3507b01",
   "metadata": {},
   "outputs": [],
   "source": []
  }
 ],
 "metadata": {
  "kernelspec": {
   "display_name": "Python 3 (ipykernel)",
   "language": "python",
   "name": "python3"
  },
  "language_info": {
   "codemirror_mode": {
    "name": "ipython",
    "version": 3
   },
   "file_extension": ".py",
   "mimetype": "text/x-python",
   "name": "python",
   "nbconvert_exporter": "python",
   "pygments_lexer": "ipython3",
   "version": "3.8.10"
  }
 },
 "nbformat": 4,
 "nbformat_minor": 5
}
