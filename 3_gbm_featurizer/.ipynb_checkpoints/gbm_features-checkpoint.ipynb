{
 "cells": [
  {
   "cell_type": "code",
   "execution_count": 14,
   "id": "c4511b29",
   "metadata": {},
   "outputs": [],
   "source": [
    "from sklearn.datasets import load_diabetes, fetch_california_housing\n",
    "from sklearn.pipeline import Pipeline\n",
    "from sklearn.linear_model import LinearRegression\n",
    "from sklearn.model_selection import train_test_split\n",
    "from sklearn.metrics import mean_squared_error\n",
    "\n",
    "from skgbm.preprocessing import GBMFeaturizer\n",
    "from lightgbm import LGBMRegressor"
   ]
  },
  {
   "cell_type": "code",
   "execution_count": 16,
   "id": "b42abf1c",
   "metadata": {},
   "outputs": [
    {
     "name": "stdout",
     "output_type": "stream",
     "text": [
      "5103.677203711061\n",
      "3548.2477838688897\n",
      "4178.5288128572465\n"
     ]
    }
   ],
   "source": [
    "X, y = load_diabetes(return_X_y=True)\n",
    "\n",
    "X, y = load_diabetes(return_X_y=True)\n",
    "\n",
    "X_train, X_test, y_train, y_test = train_test_split(X, y)\n",
    "\n",
    "pipeline = \\\n",
    "    Pipeline([\n",
    "        ('gbm_featurizer', GBMFeaturizer(LGBMRegressor())),\n",
    "        ('linear_regression', LinearRegression())\n",
    "    ])\n",
    "\n",
    "linear_reg = LinearRegression()\n",
    "lgb_reg = LGBMRegressor()\n",
    "\n",
    "# Training\n",
    "pipeline.fit(X_train, y_train)\n",
    "linear_reg.fit(X_train, y_train)\n",
    "lgb_reg.fit(X_train, y_train)\n",
    "\n",
    "# Testing\n",
    "pipeline_pred = pipeline.predict(X_test)\n",
    "linear_pred = linear_reg.predict(X_test)\n",
    "lgb_pred = lgb_reg.predict(X_test)\n",
    "\n",
    "print(mean_squared_error(y_test, pipeline_pred))\n",
    "print(mean_squared_error(y_test, linear_pred))\n",
    "print(mean_squared_error(y_test, lgb_pred))"
   ]
  },
  {
   "cell_type": "code",
   "execution_count": null,
   "id": "72a67cb2",
   "metadata": {},
   "outputs": [],
   "source": []
  }
 ],
 "metadata": {
  "kernelspec": {
   "display_name": "Python 3 (ipykernel)",
   "language": "python",
   "name": "python3"
  },
  "language_info": {
   "codemirror_mode": {
    "name": "ipython",
    "version": 3
   },
   "file_extension": ".py",
   "mimetype": "text/x-python",
   "name": "python",
   "nbconvert_exporter": "python",
   "pygments_lexer": "ipython3",
   "version": "3.8.10"
  }
 },
 "nbformat": 4,
 "nbformat_minor": 5
}
