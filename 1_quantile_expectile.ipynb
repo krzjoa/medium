{
 "cells": [
  {
   "cell_type": "markdown",
   "id": "17ade657",
   "metadata": {},
   "source": [
    "# Expectile regression: an alternative for quantile regression"
   ]
  },
  {
   "cell_type": "markdown",
   "id": "c63c74bf",
   "metadata": {},
   "source": [
    "You might not know about that, but while **quantile regression** can be considered as a generalization of regression with **MAE objective**, the probably most widespread **(R)MSE**-based regression can be generalized in a similar way. It's called **expectile regression**.\n",
    "\n",
    "\n",
    "Typically, when we face a regression task, we intuitively try to find for a model, which looks for something that can be defined as *conditional central tendency* of the target variable. This variable is also is many cases (but not always!) the same thing as *location parameter*.\n",
    "\n",
    "In this article, I'll present the differences between MAE and quantile regression an the analogous relation between (R)MSE and quantile regression."
   ]
  },
  {
   "cell_type": "markdown",
   "id": "3f471cf9",
   "metadata": {},
   "source": [
    "## Problem formulation - different characteristics of the target variable distribution"
   ]
  },
  {
   "cell_type": "code",
   "execution_count": null,
   "id": "0c3433ce",
   "metadata": {},
   "outputs": [],
   "source": [
    "def generate_"
   ]
  },
  {
   "cell_type": "markdown",
   "id": "5e50bb87",
   "metadata": {},
   "source": [
    "Let's assume we're solving a regression problem which is to predict the price of an real estate (a house or an apartment) based on its size."
   ]
  },
  {
   "cell_type": "markdown",
   "id": "7b4848d2",
   "metadata": {},
   "source": [
    "The `DataFrame` below contains a set of real price-size pairs picked from the Polish real estate annoucement website [Otodom](otodom.pl). I've intentionally selected observations that vary a lot from each other."
   ]
  },
  {
   "cell_type": "code",
   "execution_count": 24,
   "id": "be53958d",
   "metadata": {},
   "outputs": [
    {
     "data": {
      "image/png": "[encoded data removed]",
      "text/plain": [
       "<Figure size 720x360 with 1 Axes>"
      ]
     },
     "metadata": {
      "needs_background": "light"
     },
     "output_type": "display_data"
    }
   ],
   "source": [
    "import pandas as pd\n",
    "import seaborn as sns\n",
    "import matplotlib.pyplot as plt\n",
    "plt.rcParams['figure.figsize'] = [10, 5]\n",
    "\n",
    "data = pd.DataFrame({\n",
    "    'sq_meters': [80, 80, 80, 80, 80, \n",
    "                  100, 100, 100, 100, 100],\n",
    "    'price': [520000, 3093160, 890000, 199000, 430000,\n",
    "              670000, 925000, 330000, 4999999, 700000]\n",
    "})\n",
    "\n",
    "sns.scatterplot(data=data, x='sq_meters', y='price')\n",
    "# plt.show()\n",
    "plt.savefig('data.png')"
   ]
  },
  {
   "cell_type": "markdown",
   "id": "bdaaa233",
   "metadata": {},
   "source": [
    "Now, let's answer the question - what should be the price of a real estate when its area equals 80 square meters?\n",
    "*Hey, we have not enough data to conclude'*, you may say. We cannot estimate an accurate price based only on that one particular feature: area. We'd also like to know where the given reals estate actually is located (exact city/town), number of rooms, object's condition etc. You are totally right, but bear in mind we'll never have all the information to get rid of all the incertainty when calculating a prediction. So please consider this exercise just as an experiment."
   ]
  },
  {
   "cell_type": "markdown",
   "id": "57809b5f",
   "metadata": {},
   "source": [
    "The first answer you'll probably come up with is to use an average for the each group. In such an approach, it can be easily calculated using pandas groupby methods."
   ]
  },
  {
   "cell_type": "code",
   "execution_count": 3,
   "id": "21d88239",
   "metadata": {},
   "outputs": [
    {
     "data": {
      "text/html": [
       "<div>\n",
       "<style scoped>\n",
       "    .dataframe tbody tr th:only-of-type {\n",
       "        vertical-align: middle;\n",
       "    }\n",
       "\n",
       "    .dataframe tbody tr th {\n",
       "        vertical-align: top;\n",
       "    }\n",
       "\n",
       "    .dataframe thead th {\n",
       "        text-align: right;\n",
       "    }\n",
       "</style>\n",
       "<table border=\"1\" class=\"dataframe\">\n",
       "  <thead>\n",
       "    <tr style=\"text-align: right;\">\n",
       "      <th></th>\n",
       "      <th>price</th>\n",
       "    </tr>\n",
       "    <tr>\n",
       "      <th>sq_meters</th>\n",
       "      <th></th>\n",
       "    </tr>\n",
       "  </thead>\n",
       "  <tbody>\n",
       "    <tr>\n",
       "      <th>80</th>\n",
       "      <td>1026432.0</td>\n",
       "    </tr>\n",
       "    <tr>\n",
       "      <th>100</th>\n",
       "      <td>1524999.8</td>\n",
       "    </tr>\n",
       "  </tbody>\n",
       "</table>\n",
       "</div>"
      ],
      "text/plain": [
       "               price\n",
       "sq_meters           \n",
       "80         1026432.0\n",
       "100        1524999.8"
      ]
     },
     "execution_count": 3,
     "metadata": {},
     "output_type": "execute_result"
    }
   ],
   "source": [
    "data.groupby('sq_meters').mean()"
   ]
  },
  {
   "cell_type": "markdown",
   "id": "0225726b",
   "metadata": {},
   "source": [
    "Let's do the same using:\n",
    "\n",
    "* [LinearRegression](https://scikit-learn.org/stable/modules/generated/sklearn.linear_model.LinearRegression.html) - minimizing sum of squared errors (equivalently: MAE or RMSE)\n",
    "* [LADRegression]() - a linear model, but minimizing sum of asbolute deviation (equivalently: MAE)\n",
    "* [QuatileRegression]() - generalization of LADRegression.\n",
    "\n",
    "I've used here classes from the scikit-lego library. I could also make use of statsmodel, but I'd like to keep it consistent and choose classes with sklearn-like API if possible. Of course, you can always write such objects from scratch."
   ]
  },
  {
   "cell_type": "code",
   "execution_count": 30,
   "id": "5674c852",
   "metadata": {},
   "outputs": [
    {
     "name": "stderr",
     "output_type": "stream",
     "text": [
      "/home/krzysztof/.local/lib/python3.8/site-packages/sklearn/utils/validation.py:985: DataConversionWarning: A column-vector y was passed when a 1d array was expected. Please change the shape of y to (n_samples, ), for example using ravel().\n",
      "  y = column_or_1d(y, warn=True)\n",
      "/home/krzysztof/.local/lib/python3.8/site-packages/sklearn/utils/validation.py:985: DataConversionWarning: A column-vector y was passed when a 1d array was expected. Please change the shape of y to (n_samples, ), for example using ravel().\n",
      "  y = column_or_1d(y, warn=True)\n",
      "/home/krzysztof/.local/lib/python3.8/site-packages/sklearn/utils/validation.py:985: DataConversionWarning: A column-vector y was passed when a 1d array was expected. Please change the shape of y to (n_samples, ), for example using ravel().\n",
      "  y = column_or_1d(y, warn=True)\n",
      "/home/krzysztof/.local/lib/python3.8/site-packages/sklearn/utils/validation.py:985: DataConversionWarning: A column-vector y was passed when a 1d array was expected. Please change the shape of y to (n_samples, ), for example using ravel().\n",
      "  y = column_or_1d(y, warn=True)\n",
      "/home/krzysztof/.local/lib/python3.8/site-packages/sklearn/base.py:445: UserWarning: X does not have valid feature names, but LinearRegression was fitted with feature names\n",
      "  warnings.warn(\n",
      "/home/krzysztof/.local/lib/python3.8/site-packages/sklearn/base.py:445: UserWarning: X does not have valid feature names, but LinearRegression was fitted with feature names\n",
      "  warnings.warn(\n"
     ]
    },
    {
     "data": {
      "image/png": "[encoded data removed]",
      "text/plain": [
       "<Figure size 720x360 with 1 Axes>"
      ]
     },
     "metadata": {
      "needs_background": "light"
     },
     "output_type": "display_data"
    }
   ],
   "source": [
    "from sklearn.linear_model import LinearRegression, HuberRegressor\n",
    "from sklego.linear_model import LADRegression, QuantileRegression\n",
    "import numpy as np\n",
    "\n",
    "from typing import List\n",
    "\n",
    "\n",
    "def linear_models(data: pd.DataFrame, \n",
    "                  features: List[str], \n",
    "                  target: List[str]):\n",
    "    \n",
    "    # Models\n",
    "    linear_regression = \\\n",
    "        LinearRegression().fit(data[['sq_meters']], data[['price']])\n",
    "    lad_regression = \\\n",
    "        LADRegression().fit(data[['sq_meters']], data[['price']])\n",
    "    quantile_regression_10 = \\\n",
    "        QuantileRegression(quantile=0.1).fit(data[['sq_meters']], data[['price']])\n",
    "    quantile_regression_90 = \\\n",
    "        QuantileRegression(quantile=0.9).fit(data[['sq_meters']], data[['price']])\n",
    "\n",
    "    # Forecasts\n",
    "    space = np.linspace(50, 150).reshape(-1, 1)\n",
    "\n",
    "    pred = pd.DataFrame({\n",
    "        'sq_meters': space.ravel(),\n",
    "        'linear_regression': linear_regression.predict(space).ravel(),\n",
    "        'lad_regression': lad_regression.predict(space).ravel(),\n",
    "        'quantile_regression_10': quantile_regression_10.predict(space).ravel(),\n",
    "        'quantile_regression_90': quantile_regression_90.predict(space).ravel()\n",
    "    })\n",
    "\n",
    "    pred = pred.melt('sq_meters')\n",
    "\n",
    "    sns.scatterplot(data=data, x='sq_meters', y='price')\n",
    "    sns.lineplot(data=pred, x='sq_meters', y='value', hue='variable')\n",
    "    plt.show()"
   ]
  },
  {
   "cell_type": "markdown",
   "id": "2b699642",
   "metadata": {},
   "source": [
    "We can see it gave us exactly the same results as calculating group-wise means. This is a special case, because we only have two area-related groups: 80 and 100 meters. If we have more, the values estimated with the LinearRegression would be not necessary identical."
   ]
  },
  {
   "cell_type": "markdown",
   "id": "bb40e2ee",
   "metadata": {},
   "source": [
    "The goal of doing this exercise was basically to show you, what answer we're looking for when trying to optimize MSE or, equivalently, RMSE. "
   ]
  },
  {
   "cell_type": "markdown",
   "id": "9c15f644",
   "metadata": {},
   "source": [
    "## The same, but with more realistic data "
   ]
  },
  {
   "cell_type": "code",
   "execution_count": null,
   "id": "76283b70",
   "metadata": {},
   "outputs": [],
   "source": []
  },
  {
   "cell_type": "markdown",
   "id": "9adf136e",
   "metadata": {},
   "source": [
    "Choosing a simple linear model with the most typical objective, we're looking for the **center of the distribution**, while qunatile regression gives us some information about the upper and lower bound of the target regression distribution. Obviously"
   ]
  },
  {
   "cell_type": "code",
   "execution_count": null,
   "id": "6225d7c0",
   "metadata": {},
   "outputs": [],
   "source": [
    "# https://datascience.stackexchange.com/questions/66712/reason-for-generally-using-rmse-instead-of-mse-in-linear-regression"
   ]
  },
  {
   "cell_type": "markdown",
   "id": "53f498fb",
   "metadata": {},
   "source": [
    "http://www.sp.unipg.it/surwey/images/workshop/nikos/Session-1_Pisa_July-2016.pdf"
   ]
  },
  {
   "cell_type": "code",
   "execution_count": null,
   "id": "4231115f",
   "metadata": {},
   "outputs": [],
   "source": []
  }
 ],
 "metadata": {
  "kernelspec": {
   "display_name": "Python 3 (ipykernel)",
   "language": "python",
   "name": "python3"
  },
  "language_info": {
   "codemirror_mode": {
    "name": "ipython",
    "version": 3
   },
   "file_extension": ".py",
   "mimetype": "text/x-python",
   "name": "python",
   "nbconvert_exporter": "python",
   "pygments_lexer": "ipython3",
   "version": "3.8.10"
  }
 },
 "nbformat": 4,
 "nbformat_minor": 5
}
