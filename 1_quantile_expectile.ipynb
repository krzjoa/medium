{
 "cells": [
  {
   "cell_type": "markdown",
   "id": "17ade657",
   "metadata": {},
   "source": [
    "# Quantile, expectile and m-Huberized regression"
   ]
  },
  {
   "cell_type": "markdown",
   "id": "c63c74bf",
   "metadata": {},
   "source": [
    "As as Data Sciencie practioner, you may be familiar with a notion of so-called **quantile regression**. It's one of the most common methods used to estimate some specfic properties of the target variable distribution.\n",
    "\n",
    "If such things as \"target variable distribution\" sounds strange to you ears, please read the brief and intuitive recap on that topic I've placed below."
   ]
  },
  {
   "cell_type": "markdown",
   "id": "3f471cf9",
   "metadata": {},
   "source": [
    "## Problem formulation - an (over)simplified version"
   ]
  },
  {
   "cell_type": "markdown",
   "id": "5e50bb87",
   "metadata": {},
   "source": [
    "Let's assume we're solving a regression problem which is to predict the price of an real estate (a house or an apartment) based on its size."
   ]
  },
  {
   "cell_type": "code",
   "execution_count": 11,
   "id": "4e811428",
   "metadata": {},
   "outputs": [],
   "source": [
    "import pandas as pd\n",
    "\n",
    "data = pd.DataFrame({\n",
    "    'sq_meters': [80, 80, 80, 80, 80, \n",
    "                  100, 100, 100, 100, 100],\n",
    "    'price': [520000, 3093160, 890000, 199000, 430000,\n",
    "              670000, 925000, 330000, 4999999, 700000]\n",
    "})"
   ]
  },
  {
   "cell_type": "markdown",
   "id": "7b4848d2",
   "metadata": {},
   "source": [
    "The `DataFrame` above contains a set of real price-size pairs picked from the Polish real estate annoucement website [Otodom](otodom.pl). I've intentionally selected observations that vary a lot from each other."
   ]
  },
  {
   "cell_type": "code",
   "execution_count": 14,
   "id": "be53958d",
   "metadata": {},
   "outputs": [],
   "source": [
    "import seaborn as sns\n",
    "import matplotlib.pyplot as plt"
   ]
  },
  {
   "cell_type": "code",
   "execution_count": 15,
   "id": "f869d21a",
   "metadata": {},
   "outputs": [
    {
     "data": {
      "image/png": "[encoded data removed]",
      "text/plain": [
       "<Figure size 432x288 with 1 Axes>"
      ]
     },
     "metadata": {
      "needs_background": "light"
     },
     "output_type": "display_data"
    }
   ],
   "source": [
    "sns.scatterplot(data=data, x='sq_meters', y='price')\n",
    "plt.show()"
   ]
  },
  {
   "cell_type": "markdown",
   "id": "bdaaa233",
   "metadata": {},
   "source": [
    "Now, let's answer the question - what should be the price of a real estate when its area equals 80 square meters?\n",
    "*Hey, we have not enough data to conclude'*, you may say. We cannot estimate an accurate price based only on that one particular feature - area. We'd also like to know where the given reals estate actually is located (exact city/town), number of the rooms, the condition of the object etc. You are totally right, but bear in mind we'll never have all the information to get rid of all the incertainty when calculating a prediction. So please consider this exercise as thought experiment."
   ]
  },
  {
   "cell_type": "markdown",
   "id": "57809b5f",
   "metadata": {},
   "source": [
    "The first answer you'll probably come up with is to use an average for the each group. In such an approach, it can be easily calculated using pandas groupby methods."
   ]
  },
  {
   "cell_type": "code",
   "execution_count": 17,
   "id": "21d88239",
   "metadata": {},
   "outputs": [
    {
     "data": {
      "text/html": [
       "<div>\n",
       "<style scoped>\n",
       "    .dataframe tbody tr th:only-of-type {\n",
       "        vertical-align: middle;\n",
       "    }\n",
       "\n",
       "    .dataframe tbody tr th {\n",
       "        vertical-align: top;\n",
       "    }\n",
       "\n",
       "    .dataframe thead th {\n",
       "        text-align: right;\n",
       "    }\n",
       "</style>\n",
       "<table border=\"1\" class=\"dataframe\">\n",
       "  <thead>\n",
       "    <tr style=\"text-align: right;\">\n",
       "      <th></th>\n",
       "      <th>price</th>\n",
       "    </tr>\n",
       "    <tr>\n",
       "      <th>sq_meters</th>\n",
       "      <th></th>\n",
       "    </tr>\n",
       "  </thead>\n",
       "  <tbody>\n",
       "    <tr>\n",
       "      <th>80</th>\n",
       "      <td>1026432.0</td>\n",
       "    </tr>\n",
       "    <tr>\n",
       "      <th>100</th>\n",
       "      <td>1524999.8</td>\n",
       "    </tr>\n",
       "  </tbody>\n",
       "</table>\n",
       "</div>"
      ],
      "text/plain": [
       "               price\n",
       "sq_meters           \n",
       "80         1026432.0\n",
       "100        1524999.8"
      ]
     },
     "execution_count": 17,
     "metadata": {},
     "output_type": "execute_result"
    }
   ],
   "source": [
    "data.groupby('sq_meters').mean()"
   ]
  },
  {
   "cell_type": "markdown",
   "id": "0225726b",
   "metadata": {},
   "source": [
    "Let's do the same using LinearRegression model from scikit-learn."
   ]
  },
  {
   "cell_type": "code",
   "execution_count": 21,
   "id": "5674c852",
   "metadata": {},
   "outputs": [
    {
     "name": "stdout",
     "output_type": "stream",
     "text": [
      "80: [[1026432.]]\n",
      "100: [[1524999.8]]\n"
     ]
    },
    {
     "name": "stderr",
     "output_type": "stream",
     "text": [
      "/home/krzysztof/.local/lib/python3.8/site-packages/sklearn/base.py:445: UserWarning: X does not have valid feature names, but LinearRegression was fitted with feature names\n",
      "  warnings.warn(\n",
      "/home/krzysztof/.local/lib/python3.8/site-packages/sklearn/base.py:445: UserWarning: X does not have valid feature names, but LinearRegression was fitted with feature names\n",
      "  warnings.warn(\n"
     ]
    }
   ],
   "source": [
    "from sklearn.linear_model import LinearRegression\n",
    "reg = LinearRegression().fit(data[['sq_meters']], data[['price']])\n",
    "print(f\"80: {reg.predict([[80]])}\")\n",
    "print(f\"100: {reg.predict([[100]])}\")"
   ]
  },
  {
   "cell_type": "markdown",
   "id": "2b699642",
   "metadata": {},
   "source": [
    "We can see it gave us exactly the same results as calculating group-wise means. This is a special case, because we only have two area-related groups: 80 and 100 meters. If we have more, the values estimated with the LinearRegression would be not necessary identical."
   ]
  },
  {
   "cell_type": "markdown",
   "id": "bb40e2ee",
   "metadata": {},
   "source": [
    "The goal of doing this exercise was basically to show you, what answer we're looking for when trying to optimize MSE or, equivalently, RMSE. "
   ]
  },
  {
   "cell_type": "code",
   "execution_count": null,
   "id": "6225d7c0",
   "metadata": {},
   "outputs": [],
   "source": [
    "# https://datascience.stackexchange.com/questions/66712/reason-for-generally-using-rmse-instead-of-mse-in-linear-regression"
   ]
  },
  {
   "cell_type": "markdown",
   "id": "53f498fb",
   "metadata": {},
   "source": [
    "http://www.sp.unipg.it/surwey/images/workshop/nikos/Session-1_Pisa_July-2016.pdf"
   ]
  },
  {
   "cell_type": "code",
   "execution_count": null,
   "id": "4231115f",
   "metadata": {},
   "outputs": [],
   "source": []
  }
 ],
 "metadata": {
  "kernelspec": {
   "display_name": "Python 3 (ipykernel)",
   "language": "python",
   "name": "python3"
  },
  "language_info": {
   "codemirror_mode": {
    "name": "ipython",
    "version": 3
   },
   "file_extension": ".py",
   "mimetype": "text/x-python",
   "name": "python",
   "nbconvert_exporter": "python",
   "pygments_lexer": "ipython3",
   "version": "3.8.10"
  }
 },
 "nbformat": 4,
 "nbformat_minor": 5
}
